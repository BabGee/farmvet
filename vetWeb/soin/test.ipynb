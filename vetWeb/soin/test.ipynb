{
 "cells": [
  {
   "cell_type": "code",
   "execution_count": null,
   "metadata": {},
   "outputs": [],
   "source": [
    "import os, sys\n",
    "import django\n",
    "PROJECTPATH = '/'\n",
    "sys.path.insert(0, PROJECTPATH)\n",
    "os.environ.setdefault(\"DJANGO_SETTINGS_MODULE\", \"soin.settings\")\n",
    "os.environ[\"DJANGO_ALLOW_ASYNC_UNSAFE\"] = \"true\"\n",
    "\n",
    "os.chdir(PROJECTPATH)\n",
    "\n",
    "# psycho - 50 cent\n",
    "django.setup()"
   ]
  },
  {
   "cell_type": "code",
   "execution_count": null,
   "metadata": {},
   "outputs": [],
   "source": [
    "from user.models import *\n",
    "\n",
    "from portals.models import *\n"
   ]
  },
  {
   "cell_type": "code",
   "execution_count": null,
   "metadata": {},
   "outputs": [],
   "source": [
    "farmers = [farmer.user.first_name + ' ' +farmer.user.last_name for farmer in Farmer.objects.all()]\n",
    "\n",
    "farmers_list = []\n",
    "\n",
    "key = 1\n",
    "\n",
    "for farmer in farmers:\n",
    "    farmer_tuple = (key, farmer)\n",
    "    key+=1\n",
    "    farmers_list.append(farmer_tuple)\n",
    "    \n",
    "    \n",
    "\n",
    "FARMERS = tuple(farmers_list)\n",
    "\n",
    "print(f'Farmers Choices: {FARMERS}')"
   ]
  },
  {
   "cell_type": "code",
   "execution_count": null,
   "metadata": {},
   "outputs": [],
   "source": [
    "print(FARMERS)"
   ]
  },
  {
   "cell_type": "code",
   "execution_count": null,
   "metadata": {},
   "outputs": [],
   "source": [
    "farmer = Farmer.objects.last()\n",
    "\n",
    "Sick_Approach_Form.objects.filter(farmer=farmer)\n",
    "\n",
    "farmer.user"
   ]
  },
  {
   "cell_type": "code",
   "execution_count": null,
   "metadata": {},
   "outputs": [],
   "source": [
    "farmer = Farmer.objects.get()\n",
    "sick_forms = Sick_Approach_Form.objects.filter(farmer=request.user)"
   ]
  },
  {
   "cell_type": "code",
   "execution_count": null,
   "metadata": {},
   "outputs": [],
   "source": [
    "payload = {}\n",
    "\n",
    "payload['product_item_shop_product_type_id'] = 2\n",
    "\n",
    "\n",
    "payload"
   ]
  },
  {
   "cell_type": "code",
   "execution_count": null,
   "metadata": {},
   "outputs": [],
   "source": [
    "params = {}\n",
    "\n",
    "params['rows'] = []\n",
    "\n",
    "params['cols'] = [{'label': 'id', 'type': 'string', 'value': 'product_item__id'}, {'label': 'name', 'type': 'string', 'value': 'product__name'}, {'label': 'description', 'type': 'string', 'value': 'product__description'}]\n",
    "\n",
    "\n",
    "\n",
    "product_category = ShopProductType.objects.get(id=payload.get('product_item_shop_product_type_id'))\n",
    "\n",
    "\n",
    "category_products = ProductItem.objects.filter(product_type=sh1)\n",
    "\n",
    "\n",
    "\n",
    "\n",
    "        \n",
    "if category_products:\n",
    "\tfor product in category_products:\n",
    "\t\tprint(product)\n",
    "\t\tparams['rows'].extend([[product.id, product.name, product.description]])\n",
    "\n",
    "else:\n",
    "\tprint('No product')\t\t\n",
    "\n",
    "\n",
    "params\t"
   ]
  },
  {
   "attachments": {},
   "cell_type": "markdown",
   "metadata": {},
   "source": [
    "#### "
   ]
  },
  {
   "cell_type": "code",
   "execution_count": null,
   "metadata": {},
   "outputs": [],
   "source": []
  },
  {
   "cell_type": "code",
   "execution_count": null,
   "metadata": {},
   "outputs": [],
   "source": []
  }
 ],
 "metadata": {
  "kernelspec": {
   "display_name": "Python 3 (ipykernel)",
   "language": "python",
   "name": "python3"
  },
  "language_info": {
   "codemirror_mode": {
    "name": "ipython",
    "version": 3
   },
   "file_extension": ".py",
   "mimetype": "text/x-python",
   "name": "python",
   "nbconvert_exporter": "python",
   "pygments_lexer": "ipython3",
   "version": "3.10.6"
  },
  "orig_nbformat": 4,
  "vscode": {
   "interpreter": {
    "hash": "69fc550a8a34620906e5950905226eb88201970c1f900cd63ed6ad58bd06c2f2"
   }
  }
 },
 "nbformat": 4,
 "nbformat_minor": 2
}
